{
 "cells": [
  {
   "cell_type": "markdown",
   "metadata": {},
   "source": [
    "### Example data analysis using encoded smile types \n",
    "\n",
    "TODO"
   ]
  },
  {
   "cell_type": "code",
   "execution_count": 1,
   "metadata": {},
   "outputs": [
    {
     "name": "stdout",
     "output_type": "stream",
     "text": [
      "DATASET:  voluntary_med_stakes\n",
      "data loaded\n",
      "df shape: (2179289, 8)\n",
      "  # data files :  214\n",
      "  # frames     :  2179289\n",
      "\n",
      "------------------------------------------\n",
      "DATASET:  commanded_med_stakes\n",
      "data loaded\n",
      "df shape: (1616624, 8)\n",
      "  # data files :  160\n",
      "  # frames     :  1616624\n",
      "\n",
      "------------------------------------------\n",
      "DATASET:  commanded_low_stakes\n",
      "data loaded\n",
      "df shape: (1654606, 8)\n",
      "  # data files :  300\n",
      "  # frames     :  1654606\n",
      "\n",
      "------------------------------------------\n",
      "df shape: (5450519, 8)\n",
      "  # data files :  674\n",
      "  # frames     :  5450519\n",
      "\n",
      "columns: \n",
      "Index(['filename', 'timestamp', 'confidence', 'AU06_r', 'AU12_r', 'voluntary',\n",
      "       'med_stakes', 'dataset'],\n",
      "      dtype='object')\n"
     ]
    }
   ],
   "source": [
    "# LOAD DATA\n",
    "import pandas as pd\n",
    "import numpy as np\n",
    "import matplotlib.pyplot as plt\n",
    "pd.options.display.precision = 3\n",
    "pd.options.display.max_rows = 999\n",
    "pd.options.display.max_columns = 999\n",
    "plt.style.use('classic')\n",
    "\n",
    "#INPUT_FILE = '../processed_data/openface_features/voluntary_med_stakes_openface.csv.bz2'\n",
    "DATASETS = ['voluntary_med_stakes', 'commanded_med_stakes', 'commanded_low_stakes']\n",
    "FEAT_COLS = ['AU06_r','AU12_r']\n",
    "OTHER_COLS = ['filename', 'timestamp', 'confidence']\n",
    "FPS = 15\n",
    "CONFIDENCE_THRESH = 0.90\n",
    "\n",
    "#==========================================================================================\n",
    "# select a data set\n",
    "# make sure you download data sets from:\n",
    "# http://roc-hci.com/current-projects/deception-project/\n",
    "# 'UR_LYING/v1.0/processed_data/openface_features/\n",
    "# commanded_med_stakes_openface.csv.bz2\n",
    "# commanded_low_stakes_openface.csv.bz2\n",
    "# voluntary_med_stakes_openface.csv.bz2\n",
    "# if you decompress the data file in advance (.bz2 --> .csv), you might get a load speed up\n",
    "# in ubuntu, the command to decompress is $ bzip -d -k *.bz2 \n",
    "\n",
    "df_list = []\n",
    "for dataset in DATASETS:\n",
    "    print('DATASET: ', dataset)\n",
    "    feat_file = '../data/' + dataset + '_openface.csv'\n",
    "\n",
    "    # load data into pandas DataFrame (this make take a while)\n",
    "    df = pd.read_csv(feat_file, skipinitialspace=True, usecols=FEAT_COLS + OTHER_COLS)\n",
    "    # the following are kinda wasteful in memory, but convenient\n",
    "    df['voluntary'] = 'voluntary' in dataset\n",
    "    df['med_stakes'] = 'med_stakes' in dataset\n",
    "    df['dataset'] = dataset\n",
    "        \n",
    "    print('data loaded')\n",
    "    print('df shape:', df.shape)\n",
    "    print('  # data files : ', df['filename'].nunique())\n",
    "    print('  # frames     : ', df.shape[0])\n",
    "    print('\\n------------------------------------------')\n",
    "    df_list.append(df)\n",
    "    \n",
    "# combine\n",
    "df_all = pd.concat(df_list, axis=0)\n",
    "print('df shape:', df_all.shape)\n",
    "print('  # data files : ', df_all['filename'].nunique())\n",
    "print('  # frames     : ', df_all.shape[0])\n",
    "print('\\ncolumns: ')\n",
    "# df_list = [] # garbage collect\n",
    "print(df_all.columns)"
   ]
  },
  {
   "cell_type": "code",
   "execution_count": null,
   "metadata": {},
   "outputs": [],
   "source": [
    "# create smile clusters\n",
    "# first use simple kmeans with k=5\n",
    "#\n",
    "\n"
   ]
  },
  {
   "cell_type": "markdown",
   "metadata": {},
   "source": []
  }
 ],
 "metadata": {
  "kernelspec": {
   "display_name": "Python [conda env:py36]",
   "language": "python",
   "name": "conda-env-py36-py"
  },
  "language_info": {
   "codemirror_mode": {
    "name": "ipython",
    "version": 3
   },
   "file_extension": ".py",
   "mimetype": "text/x-python",
   "name": "python",
   "nbconvert_exporter": "python",
   "pygments_lexer": "ipython3",
   "version": "3.6.4"
  }
 },
 "nbformat": 4,
 "nbformat_minor": 2
}
